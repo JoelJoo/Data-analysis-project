{
 "cells": [
  {
   "cell_type": "code",
   "execution_count": null,
   "id": "92801257-b634-437b-b898-2db9bf3c6094",
   "metadata": {},
   "outputs": [],
   "source": [
    "#AUTOMATIQUE FILE SORTER "
   ]
  },
  {
   "cell_type": "code",
   "execution_count": 19,
   "id": "f9433cae-5d83-49b7-975c-a4fad5a874ee",
   "metadata": {},
   "outputs": [],
   "source": [
    "import os, shutil"
   ]
  },
  {
   "cell_type": "code",
   "execution_count": 31,
   "id": "e933e15e-ee2e-4843-96ad-f859f7f16cdb",
   "metadata": {},
   "outputs": [],
   "source": [
    "path = r\"C:/Users/DELL/Pictures/\""
   ]
  },
  {
   "cell_type": "code",
   "execution_count": 32,
   "id": "7fef19c4-de44-4eca-9196-126dc8e3f6c9",
   "metadata": {},
   "outputs": [
    {
     "data": {
      "text/plain": [
       "['1648755257648.mp4',\n",
       " '19dbbc23fed24be6962c1e005b78f726.jpg',\n",
       " '287153c3b79741dfb2cf0a9de237d37a.mp4',\n",
       " '4ffb05f821044acfb17b27d51a108a12.mp4',\n",
       " '624200b1079f47738dbf592669d02c85.mp4',\n",
       " '913e7c73751d475a8b52930af4a94d14.mp4',\n",
       " 'ae7b03e528f9475ba73528262d873b69.jpg',\n",
       " \"bougies d'intervention.PNG\",\n",
       " 'c1dc5b592854429cacbc3b6d93575c23.mp4',\n",
       " 'Camera Roll',\n",
       " 'cc7c18909b06482ea324dab7f4ba8c26.mp4',\n",
       " 'cf62ffbbdebf44ad9f19817d85596f94.jpg',\n",
       " 'covid Data step 1.png',\n",
       " 'Covid Data step 2.png',\n",
       " 'covid_starter.png',\n",
       " 'death_rate_percent_covid_analysis.png',\n",
       " 'desktop.ini',\n",
       " 'fb7cb7d889984f7bbe29c1fc100b06c4.mp4',\n",
       " 'FB_IMG_16379646958310805.jpg',\n",
       " 'FB_IMG_16379647104201858.jpg',\n",
       " 'FB_IMG_16379648704847865.jpg',\n",
       " 'FB_IMG_16379648785464768.jpg',\n",
       " 'FB_IMG_16379648865205457.jpg',\n",
       " 'FB_IMG_16380016723256189.jpg',\n",
       " 'FB_IMG_16380016779185189.jpg',\n",
       " 'FB_IMG_16380016856050329.jpg',\n",
       " 'FB_IMG_16380363426409835.jpg',\n",
       " 'FB_IMG_16393925065242971.jpg',\n",
       " 'FB_IMG_16410520051844388.jpg',\n",
       " 'FB_IMG_16438271573471452.jpg',\n",
       " 'FB_IMG_16447641373004129.jpg',\n",
       " 'FB_IMG_16500936606151609.jpg',\n",
       " 'FB_IMG_16515376071296016.jpg',\n",
       " 'FB_IMG_16515395406984921.jpg',\n",
       " 'FB_IMG_16517072536757553.jpg',\n",
       " 'FB_IMG_16517456716019965.jpg',\n",
       " 'FB_IMG_16529056020967252.jpg',\n",
       " 'FB_IMG_16529056164799129.jpg',\n",
       " 'Icecream Screen Recorder',\n",
       " 'IMG-20211126-WA0028.jpg',\n",
       " 'IMG-20211126-WA0029.jpg',\n",
       " 'IMG-20211206-WA0005.jpg',\n",
       " 'IMG-20211215-WA0003.jpg',\n",
       " 'IMG-20211215-WA0012.jpg',\n",
       " 'IMG-20211225-WA0048.jpg',\n",
       " 'IMG-20211225-WA0052.jpg',\n",
       " 'IMG-20211225-WA0054.jpg',\n",
       " 'IMG-20211225-WA0055.jpg',\n",
       " 'IMG-20211225-WA0057.jpg',\n",
       " 'IMG-20211225-WA0058.jpg',\n",
       " 'IMG-20211225-WA0060.jpg',\n",
       " 'IMG-20211225-WA0071.jpg',\n",
       " 'IMG-20211225-WA0075.jpg',\n",
       " 'IMG-20211228-WA0047.jpg',\n",
       " 'IMG-20211228-WA0048.jpg',\n",
       " 'IMG-20211228-WA0050.jpg',\n",
       " 'IMG-20211228-WA0052.jpg',\n",
       " 'IMG-20211228-WA0055.jpg',\n",
       " 'IMG-20211228-WA0056.jpg',\n",
       " 'IMG-20211228-WA0057.jpg',\n",
       " 'IMG-20211228-WA0058.jpg',\n",
       " 'IMG-20211228-WA0059.jpg',\n",
       " 'IMG-20211228-WA0061.jpg',\n",
       " 'IMG-20211228-WA0062.jpg',\n",
       " 'IMG-20211228-WA0063.jpg',\n",
       " 'IMG-20211228-WA0065.jpg',\n",
       " 'IMG-20211228-WA0066.jpg',\n",
       " 'IMG-20220107-WA0026.jpg',\n",
       " 'IMG-20220107-WA0066.jpg',\n",
       " 'IMG-20220107-WA0069.jpg',\n",
       " 'IMG-20220113-WA0005.jpg',\n",
       " 'IMG-20220122-WA0018.jpg',\n",
       " 'IMG-20220122-WA0024.jpg',\n",
       " 'IMG-20220122-WA0025.jpg',\n",
       " 'IMG-20220122-WA0026.jpg',\n",
       " 'IMG-20220122-WA0027.jpg',\n",
       " 'IMG-20220122-WA0028.jpg',\n",
       " 'IMG-20220125-WA0020.jpg',\n",
       " 'IMG-20220125-WA0021.jpg',\n",
       " 'IMG-20220125-WA0022.jpg',\n",
       " 'IMG-20220125-WA0023.jpg',\n",
       " 'IMG-20220125-WA0037.jpg',\n",
       " 'IMG-20220207-WA0011.jpg',\n",
       " 'IMG-20220207-WA0012.jpg',\n",
       " 'IMG-20220207-WA0013.jpg',\n",
       " 'IMG-20220422-WA0003.jpg',\n",
       " 'IMG-20220430-WA0016.jpg',\n",
       " 'IMG-20220430-WA0017.jpg',\n",
       " 'IMG-20220430-WA0018.jpg',\n",
       " 'IMG_20220215_113322.jpg',\n",
       " 'IMG_20220215_113335.jpg',\n",
       " 'IMG_20220320_161317.jpg',\n",
       " 'IMG_20220320_161328.jpg',\n",
       " 'IMG_20220320_161328~2.jpg',\n",
       " 'IMG_20220424_184005_966.jpg',\n",
       " 'lots.PNG',\n",
       " 'nashville_cleaned_showed.png',\n",
       " 'Nashville_data_cleaning.png',\n",
       " 'nashville_starter_excel.png',\n",
       " 'Real estate step 1.png',\n",
       " 'Real estate step 2.png',\n",
       " 'Real estate step 3.png',\n",
       " 'Saved Pictures',\n",
       " 'Screenshots',\n",
       " 'Snapchat-1447302403.mp4',\n",
       " 'Snapchat-1709086708.mp4',\n",
       " 'Snapchat-1716070811.mp4',\n",
       " 'Snapchat-273720980.mp4',\n",
       " 'Snapchat-45377475.mp4',\n",
       " 'Snapchat-675145333.mp4',\n",
       " 'sql_nashville.png',\n",
       " 'telegram1.png']"
      ]
     },
     "execution_count": 32,
     "metadata": {},
     "output_type": "execute_result"
    }
   ],
   "source": [
    "os.listdir(path)"
   ]
  },
  {
   "cell_type": "code",
   "execution_count": 34,
   "id": "617ad823-e60a-45a6-9b72-fdbc4edd454a",
   "metadata": {},
   "outputs": [
    {
     "name": "stdout",
     "output_type": "stream",
     "text": [
      "exist : C:/Users/DELL/Pictures/png files\n",
      "exist : C:/Users/DELL/Pictures/jpg file\n",
      "C:/Users/DELL/Pictures/mp4 files\n"
     ]
    }
   ],
   "source": [
    "folder_name = ['png files', 'jpg file', 'mp4 files']\n",
    "\n",
    "for loop in range(0, 3):\n",
    "    if not os.path.exists(path + folder_name[loop]):\n",
    "        print(path + folder_name[loop])\n",
    "        os.makedirs(path + folder_name[loop])\n",
    "    else:\n",
    "        print(\"exist : \" + path + folder_name[loop])\n",
    "    "
   ]
  },
  {
   "cell_type": "code",
   "execution_count": 42,
   "id": "d1f0d3bf-44ae-47e1-8bbc-5b961778b479",
   "metadata": {},
   "outputs": [],
   "source": [
    "files_name = os.listdir(path)"
   ]
  },
  {
   "cell_type": "code",
   "execution_count": 43,
   "id": "9ea27eb2-1be3-4f06-80c1-dfc8f708d781",
   "metadata": {},
   "outputs": [
    {
     "name": "stdout",
     "output_type": "stream",
     "text": [
      "There still : bougies d'intervention.PNG that are not moved cause you didn't specify where to put it\n",
      "There still : Camera Roll that are not moved cause you didn't specify where to put it\n",
      "There still : desktop.ini that are not moved cause you didn't specify where to put it\n",
      "There still : Icecream Screen Recorder that are not moved cause you didn't specify where to put it\n",
      "There still : jpg file that are not moved cause you didn't specify where to put it\n",
      "There still : lots.PNG that are not moved cause you didn't specify where to put it\n",
      "There still : mp4 files that are not moved cause you didn't specify where to put it\n",
      "There still : png files that are not moved cause you didn't specify where to put it\n",
      "There still : Saved Pictures that are not moved cause you didn't specify where to put it\n",
      "There still : Screenshots that are not moved cause you didn't specify where to put it\n"
     ]
    }
   ],
   "source": [
    "for file in files_name:\n",
    "    if \".mp4\" in file and not os.path.exists(path + \"mp4 files/\" + file):\n",
    "        shutil.move(path + file, path + \"mp4 files/\" + file)\n",
    "    elif \".png\" in file and not os.path.exists(path + \"png files/\" + file):\n",
    "        shutil.move(path + file, path + \"png files/\" + file)\n",
    "    elif \".jpg\" in file and not os.path.exists(path + \"jpg file/\" + file):\n",
    "        shutil.move(path + file, path + \"jpg file/\" + file)\n",
    "    else:\n",
    "        print(\"There still : \" + file + \" that are not moved cause you didn't specify where to put it\")"
   ]
  },
  {
   "cell_type": "code",
   "execution_count": null,
   "id": "7ee04a5a-7fbd-45c8-8597-d3117eff047e",
   "metadata": {},
   "outputs": [],
   "source": []
  }
 ],
 "metadata": {
  "kernelspec": {
   "display_name": "Python 3 (ipykernel)",
   "language": "python",
   "name": "python3"
  },
  "language_info": {
   "codemirror_mode": {
    "name": "ipython",
    "version": 3
   },
   "file_extension": ".py",
   "mimetype": "text/x-python",
   "name": "python",
   "nbconvert_exporter": "python",
   "pygments_lexer": "ipython3",
   "version": "3.11.7"
  }
 },
 "nbformat": 4,
 "nbformat_minor": 5
}
