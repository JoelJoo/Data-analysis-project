{
 "cells": [
  {
   "cell_type": "code",
   "execution_count": 1,
   "id": "6e890e38-e79a-4074-ac9b-b22f8f8a2774",
   "metadata": {},
   "outputs": [],
   "source": [
    "integers = [1, 2, 3, 4]"
   ]
  },
  {
   "cell_type": "code",
   "execution_count": 4,
   "id": "00a37dbe-da87-4a37-8eb8-fe292fe05048",
   "metadata": {},
   "outputs": [
    {
     "name": "stdout",
     "output_type": "stream",
     "text": [
      "2\n",
      "4\n",
      "6\n",
      "8\n"
     ]
    }
   ],
   "source": [
    "for n in integers:\n",
    "    print(n + n)"
   ]
  },
  {
   "cell_type": "code",
   "execution_count": 5,
   "id": "e5ef2818-a887-48e1-a7f7-d3514239be30",
   "metadata": {},
   "outputs": [
    {
     "name": "stdout",
     "output_type": "stream",
     "text": [
      "Joel\n",
      "ALAWENON\n"
     ]
    }
   ],
   "source": [
    "\n",
    "ice_cream_dict = {'name': \"Joel\", 'lastname': \"ALAWENON\"}\n",
    "for cream in ice_cream_dict.values():\n",
    "    print(cream)"
   ]
  },
  {
   "cell_type": "code",
   "execution_count": 6,
   "id": "2cfd2b5e-e207-4654-b73d-8d4a64471401",
   "metadata": {},
   "outputs": [
    {
     "name": "stdout",
     "output_type": "stream",
     "text": [
      "name -> Joel\n",
      "lastname -> ALAWENON\n"
     ]
    }
   ],
   "source": [
    "for key, value in ice_cream_dict.items():\n",
    "    print(key, \"->\", value)"
   ]
  },
  {
   "cell_type": "code",
   "execution_count": 7,
   "id": "0467cf43-7700-4531-90be-3d20ad93d21c",
   "metadata": {},
   "outputs": [],
   "source": [
    "\n",
    "\n",
    "#for loop + nested for loop\n",
    "flavour = [\"Vanilla\", \"Chocolate\", \"Cookie Dough\"]\n",
    "toppings = [\"Hot Fudge\", \"Oreos\", \"Marshmallow\"]\n"
   ]
  },
  {
   "cell_type": "code",
   "execution_count": 9,
   "id": "27f3966e-815f-4478-97bd-cea7c4e6bc7e",
   "metadata": {},
   "outputs": [
    {
     "name": "stdout",
     "output_type": "stream",
     "text": [
      "Vanilla tooped with Hot Fudge\n",
      "Vanilla tooped with Oreos\n",
      "Vanilla tooped with Marshmallow\n",
      "Chocolate tooped with Hot Fudge\n",
      "Chocolate tooped with Oreos\n",
      "Chocolate tooped with Marshmallow\n",
      "Cookie Dough tooped with Hot Fudge\n",
      "Cookie Dough tooped with Oreos\n",
      "Cookie Dough tooped with Marshmallow\n"
     ]
    }
   ],
   "source": [
    "for one in flavour:\n",
    "    for two in toppings:\n",
    "        print(one, \"tooped with\", two)"
   ]
  },
  {
   "cell_type": "code",
   "execution_count": 10,
   "id": "36359a4c-2f59-4cf5-b74e-a318a4c8ba44",
   "metadata": {},
   "outputs": [
    {
     "ename": "IndentationError",
     "evalue": "expected an indented block after 'for' statement on line 2 (3984797078.py, line 3)",
     "output_type": "error",
     "traceback": [
      "\u001b[1;36m  Cell \u001b[1;32mIn[10], line 3\u001b[1;36m\u001b[0m\n\u001b[1;33m    print(one, \"tooped with\", two)\u001b[0m\n\u001b[1;37m    ^\u001b[0m\n\u001b[1;31mIndentationError\u001b[0m\u001b[1;31m:\u001b[0m expected an indented block after 'for' statement on line 2\n"
     ]
    }
   ],
   "source": []
  },
  {
   "cell_type": "code",
   "execution_count": null,
   "id": "fd685e38-15fa-40a3-ad7b-7b74281fed3f",
   "metadata": {},
   "outputs": [],
   "source": []
  }
 ],
 "metadata": {
  "kernelspec": {
   "display_name": "Python 3 (ipykernel)",
   "language": "python",
   "name": "python3"
  },
  "language_info": {
   "codemirror_mode": {
    "name": "ipython",
    "version": 3
   },
   "file_extension": ".py",
   "mimetype": "text/x-python",
   "name": "python",
   "nbconvert_exporter": "python",
   "pygments_lexer": "ipython3",
   "version": "3.11.7"
  }
 },
 "nbformat": 4,
 "nbformat_minor": 5
}
