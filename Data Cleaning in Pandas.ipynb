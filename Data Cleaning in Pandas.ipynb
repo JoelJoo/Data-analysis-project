{
 "cells": [
  {
   "cell_type": "markdown",
   "id": "50f4a145-96a1-45b4-b96d-9539c406125a",
   "metadata": {},
   "source": [
    "Data cleaning in pandas"
   ]
  },
  {
   "cell_type": "code",
   "execution_count": 1,
   "id": "096a7962-af3c-4547-ac95-6f5780443975",
   "metadata": {},
   "outputs": [],
   "source": [
    "import pandas as pd"
   ]
  },
  {
   "cell_type": "code",
   "execution_count": null,
   "id": "c56408e9-fe0a-4d04-914a-0ef3f4667778",
   "metadata": {},
   "outputs": [],
   "source": [
    "df = pd.read_csv('filename')\n",
    "df"
   ]
  },
  {
   "cell_type": "code",
   "execution_count": null,
   "id": "7abf9cfb-3c67-4956-ad09-5c265c1e3fba",
   "metadata": {},
   "outputs": [],
   "source": [
    "df = df.drop_duplicates()"
   ]
  },
  {
   "cell_type": "code",
   "execution_count": null,
   "id": "f15839c0-78b1-4ce5-9180-5d71715e2cd1",
   "metadata": {},
   "outputs": [],
   "source": [
    "df = df.drop(\"not useful column to drop\")"
   ]
  },
  {
   "cell_type": "code",
   "execution_count": null,
   "id": "31eab641-e0fb-4b35-b1b2-760c17551783",
   "metadata": {},
   "outputs": [],
   "source": [
    "\n",
    "df['field'] = df['field'].str.lstrip('...') #left side\n",
    "df['field'] = df['field'].str.lstrip('/') #left side\n",
    "\n",
    "df['field'] = df['field'].str.rstrip('_') #right side\n",
    "\n",
    "df['field'] = df['field'].str.strip() #both side, by default it will take the white spaces\n",
    "\n",
    "#or with regular expression to\n",
    "df['field'] = df['field'].str.strip('123._/') #both side\n",
    "\n",
    "\n"
   ]
  },
  {
   "cell_type": "code",
   "execution_count": null,
   "id": "0ab3e2af-4368-4eb2-98be-6bc1d53b3e3b",
   "metadata": {},
   "outputs": [],
   "source": [
    "df"
   ]
  },
  {
   "cell_type": "code",
   "execution_count": null,
   "id": "2c3c1def-7018-4be8-b6c1-ebab875685a7",
   "metadata": {},
   "outputs": [],
   "source": [
    "df[\"phone_number\"] = df[\"phone_number\"].str.replace('[^a-zA-Z0-9]','')\n",
    "#ici on garde les entier mais on change tout les expression regilière en ''"
   ]
  },
  {
   "cell_type": "code",
   "execution_count": null,
   "id": "9cf7d404-01b5-41ad-8766-a35cfa53efa3",
   "metadata": {},
   "outputs": [],
   "source": []
  },
  {
   "cell_type": "code",
   "execution_count": null,
   "id": "ff3b9ba7-5740-41e0-b5b0-9166e1661497",
   "metadata": {},
   "outputs": [],
   "source": [
    "df[\"phone_number\"].apply(lambda x: x[0:3] + '-' + x[3:6] + '-' + x[6:10])\n",
    "#exemple numero = 1234567896\n",
    "#on veux : 123-456-7896\n",
    "#s'il ya des nan et des colonne contenant des str alors on fera comme suite : \n",
    "df[\"phone_number\"] = df[\"phone_number\"].apply(lambda x : str(x))\n",
    "df[\"phone_number\"] = df[\"phone_number\"].apply(lambda x: x[0:3] + '-' + x[3:6] + '-' + x[6:10])\n"
   ]
  },
  {
   "cell_type": "code",
   "execution_count": null,
   "id": "5cd812aa-0bc3-4c91-838c-30092605dbee",
   "metadata": {},
   "outputs": [],
   "source": [
    "df[\"phone_number\"].str.replace('nan--', '')\n",
    "\n",
    "df[\"phone_number\"].str.replace('Na--', '')\n",
    "\n"
   ]
  },
  {
   "cell_type": "code",
   "execution_count": null,
   "id": "9df507d2-3cd1-4330-a29b-206751d23732",
   "metadata": {},
   "outputs": [],
   "source": [
    "#si on veut separer ce type d'address 180 Cotonou, Benin en differentes colonne ou il y aura : 180\n",
    "df[\"Address\"].str.split(',', 2, expand = True) # on precise dans cette function \n",
    "#qu'on veut 2 virgule a enlever donc il va enlever le premier qu'il renconntre et le deuxième\n",
    "\n",
    "\n",
    "#pour sauvegarder avec les nouvelles colonne on fera : \n",
    "df[[\"Street_Address\", \"State\", \"Zip_Code\"]] =bdf[\"Address\"].str.split(',', 2, expand = True)\n"
   ]
  },
  {
   "cell_type": "code",
   "execution_count": null,
   "id": "805104fa-27f1-4e2a-a6e4-b3dcc4476fbb",
   "metadata": {},
   "outputs": [],
   "source": []
  },
  {
   "cell_type": "code",
   "execution_count": null,
   "id": "56427b57-bcbc-4caf-bce7-0efbd62d243d",
   "metadata": {},
   "outputs": [],
   "source": [
    "df[\"field\"] = df[\"field\"].str.replace('Yes', 'Y')\n",
    "df[\"field\"] = df[\"field\"].str.replace('Y', 'Yes')\n"
   ]
  },
  {
   "cell_type": "code",
   "execution_count": null,
   "id": "a4018491-4a8c-4d0c-9c5c-f89087e873b4",
   "metadata": {},
   "outputs": [],
   "source": [
    "df[\"field\"] = df[\"field\"].str.replace('No', 'N')\n",
    "df[\"field\"] = df[\"field\"].str.replace('N', 'No')"
   ]
  },
  {
   "cell_type": "code",
   "execution_count": null,
   "id": "78254fcf-fb8e-47bc-b2fc-ee6f1ea1a961",
   "metadata": {},
   "outputs": [],
   "source": [
    "\n",
    "#on veut maintenant remplacer tout les N/a par autre chose\n",
    "df = df.replace(\"N/a\", \"\")\n",
    "df = df.replace(\"Nan\", \"\")\n"
   ]
  },
  {
   "cell_type": "code",
   "execution_count": null,
   "id": "8cb36bba-d0db-4900-b72e-bdc281f2f1b0",
   "metadata": {},
   "outputs": [],
   "source": [
    "df = df.fillna('')\n"
   ]
  },
  {
   "cell_type": "code",
   "execution_count": null,
   "id": "7faea22b-d8fa-4f67-8396-5b9b3f2df7fa",
   "metadata": {},
   "outputs": [],
   "source": [
    "#on veux maintennat avoir les numero de telephone != vide et on dit oui\n",
    "df['Do_Not_Contact'].replace('', \"N\")\n"
   ]
  },
  {
   "cell_type": "code",
   "execution_count": null,
   "id": "e24b3f91-ae44-4fd5-acb0-61c26b81ee8e",
   "metadata": {},
   "outputs": [],
   "source": [
    "for x in df.index:\n",
    "    if df.loc[x : \"Do_Not_Contact\"] == 'Y':\n",
    "        df.drop(x, inplace = True)\n",
    "df\n",
    "#etant donné que do not contact veux dire ne pas contacter alors si c'est y la personne ne veut pas qu'on le contact\n"
   ]
  },
  {
   "cell_type": "code",
   "execution_count": null,
   "id": "748d20cb-8ac4-4c43-bb53-74c5d8793162",
   "metadata": {},
   "outputs": [],
   "source": []
  },
  {
   "cell_type": "code",
   "execution_count": null,
   "id": "971b3d8e-f16c-47a8-b27e-937309870a09",
   "metadata": {},
   "outputs": [],
   "source": [
    "for x in df.index:\n",
    "    if df.loc[x : \"Phone_Number\"] == '':\n",
    "        df.drop(x, inplace = True)\n",
    "df\n",
    "#etant donné qu'on ne peut pas contacter un numero vide alors on les enlève$\n",
    "#on peut aussi faire : \n",
    "df.dropna(subset='Phone_Number', inplace = True)\n"
   ]
  },
  {
   "cell_type": "code",
   "execution_count": null,
   "id": "67c75400-4a5c-45c1-b34e-edff43e70a4c",
   "metadata": {},
   "outputs": [],
   "source": [
    "#certain index ne sont plus là alors on va reset\n",
    "df.reset_index(drop=True)\n"
   ]
  }
 ],
 "metadata": {
  "kernelspec": {
   "display_name": "Python 3 (ipykernel)",
   "language": "python",
   "name": "python3"
  },
  "language_info": {
   "codemirror_mode": {
    "name": "ipython",
    "version": 3
   },
   "file_extension": ".py",
   "mimetype": "text/x-python",
   "name": "python",
   "nbconvert_exporter": "python",
   "pygments_lexer": "ipython3",
   "version": "3.11.7"
  }
 },
 "nbformat": 4,
 "nbformat_minor": 5
}
