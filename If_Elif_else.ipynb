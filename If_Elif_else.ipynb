{
 "cells": [
  {
   "cell_type": "code",
   "execution_count": 3,
   "id": "8bcfe103-2935-4e61-a7d5-8806578a7f12",
   "metadata": {},
   "outputs": [
    {
     "name": "stdout",
     "output_type": "stream",
     "text": [
      "It works\n"
     ]
    }
   ],
   "source": [
    "#if\n",
    "if (25 > 10):\n",
    "    print(\"It works\")"
   ]
  },
  {
   "cell_type": "code",
   "execution_count": 4,
   "id": "b040b759-8837-4f4f-be91-de20e3822c87",
   "metadata": {},
   "outputs": [
    {
     "name": "stdout",
     "output_type": "stream",
     "text": [
      "It did not work\n"
     ]
    }
   ],
   "source": [
    "if (25 < 10):\n",
    "    print(\"It works\")\n",
    "else:\n",
    "    print(\"It did not work\")"
   ]
  },
  {
   "cell_type": "code",
   "execution_count": 6,
   "id": "ff02b12e-1bf1-418f-8393-a4b139388a26",
   "metadata": {},
   "outputs": [
    {
     "name": "stdout",
     "output_type": "stream",
     "text": [
      "elif work\n"
     ]
    }
   ],
   "source": [
    "if (25 < 10):\n",
    "    print(\"It works\")\n",
    "elif (25 < 30):\n",
    "    print(\"elif work\")\n",
    "else:\n",
    "    print(\"It did not works\")"
   ]
  },
  {
   "cell_type": "code",
   "execution_count": 7,
   "id": "90039ed0-ad12-465e-8285-cc4c038459db",
   "metadata": {},
   "outputs": [
    {
     "name": "stdout",
     "output_type": "stream",
     "text": [
      "It did not works\n"
     ]
    }
   ],
   "source": [
    "print(\"It works\") if 10 > 20 else print(\"It did not works\")"
   ]
  },
  {
   "cell_type": "code",
   "execution_count": null,
   "id": "226b17ae-4f7f-409c-9122-7e5e37ae9a8e",
   "metadata": {},
   "outputs": [],
   "source": []
  }
 ],
 "metadata": {
  "kernelspec": {
   "display_name": "Python 3 (ipykernel)",
   "language": "python",
   "name": "python3"
  },
  "language_info": {
   "codemirror_mode": {
    "name": "ipython",
    "version": 3
   },
   "file_extension": ".py",
   "mimetype": "text/x-python",
   "name": "python",
   "nbconvert_exporter": "python",
   "pygments_lexer": "ipython3",
   "version": "3.11.7"
  }
 },
 "nbformat": 4,
 "nbformat_minor": 5
}
