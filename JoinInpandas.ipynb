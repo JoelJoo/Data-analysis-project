{
 "cells": [
  {
   "cell_type": "markdown",
   "id": "1650d2a6-dd0d-4a79-8c55-f2fcc9d9bb95",
   "metadata": {},
   "source": [
    "MERGE, JOIN, CONCATENATE in pandas"
   ]
  },
  {
   "cell_type": "code",
   "execution_count": 1,
   "id": "dafc7595-b64f-4977-8f01-4c71173fae6b",
   "metadata": {},
   "outputs": [],
   "source": [
    "import pandas as pd"
   ]
  },
  {
   "cell_type": "code",
   "execution_count": null,
   "id": "82d1a25c-d56a-4791-b407-2e9c035dcabe",
   "metadata": {},
   "outputs": [],
   "source": [
    "df1 = pd.read_csv(name_of_file)\n",
    "df1"
   ]
  },
  {
   "cell_type": "code",
   "execution_count": null,
   "id": "d83e1693-fa46-4fa0-9e70-2c16991d4248",
   "metadata": {},
   "outputs": [],
   "source": [
    "df2 = pd.read_csv(name_of_file2)\n",
    "df2"
   ]
  },
  {
   "cell_type": "markdown",
   "id": "30a1a75e-ee00-43bc-b3ce-26b16c1be2f3",
   "metadata": {},
   "source": [
    "MERGE\n"
   ]
  },
  {
   "cell_type": "code",
   "execution_count": null,
   "id": "e5ea10db-7236-4f5c-bede-a946ba2e64e8",
   "metadata": {},
   "outputs": [],
   "source": [
    "#df1 will be the first table and df2 will be the right. (inner join)\n",
    "df1.merge(df2) \n",
    "#or\n",
    "df1.merge(df2, how = 'inner', on = \"name of fiel\") \n",
    "#or\n",
    "df1.merge(df2, how = 'inner', on = [\"name of fiel\", \"other column\"]) \n"
   ]
  },
  {
   "cell_type": "code",
   "execution_count": null,
   "id": "1b887b5e-6d53-430f-a18a-3bac07dc3200",
   "metadata": {},
   "outputs": [],
   "source": [
    "\n",
    "#outer will return everething from both\n",
    "df1.merge(df2, how = 'outer') \n"
   ]
  },
  {
   "cell_type": "code",
   "execution_count": null,
   "id": "5f6ee934-0109-48cb-9425-a02a799f7e9f",
   "metadata": {},
   "outputs": [],
   "source": [
    "#left will return everithing that join and all rest in the left side\n",
    "df1.merge(df2, how = 'left') \n"
   ]
  },
  {
   "cell_type": "code",
   "execution_count": null,
   "id": "7503fc2f-2c01-453a-b767-4c568fc8382e",
   "metadata": {},
   "outputs": [],
   "source": [
    "df1.merge(df2, how = 'right') \n"
   ]
  },
  {
   "cell_type": "markdown",
   "id": "d4d03d34-dcc3-40ca-ae73-0ab7eb2d1aaa",
   "metadata": {},
   "source": [
    "JOIN (join is good when working with indexing) it take a little bit more work\n"
   ]
  },
  {
   "cell_type": "code",
   "execution_count": null,
   "id": "a63c05d8-b6bb-4b65-b762-d04e2d79aa71",
   "metadata": {},
   "outputs": [],
   "source": [
    "df1.join(df2, on = \"field\", how = 'outer', lsuffix = '_Left', rsuffix = '_Right')"
   ]
  },
  {
   "cell_type": "code",
   "execution_count": null,
   "id": "367a10aa-6368-4079-a9c9-ae8e10d78045",
   "metadata": {},
   "outputs": [],
   "source": [
    "df4 = df1.set_index('fiel want to be index').join(df2.set_index('fiel want to be index', lsuffix = '_Left', rsuffix = '_Right', how = 'outer'))"
   ]
  },
  {
   "cell_type": "code",
   "execution_count": null,
   "id": "9fed3821-fbfa-4467-af67-6b9aa74ae15d",
   "metadata": {},
   "outputs": [],
   "source": []
  },
  {
   "cell_type": "markdown",
   "id": "76eaed77-3388-4724-bedb-bc0b0bf15d9f",
   "metadata": {},
   "source": [
    "CONCATENATE"
   ]
  },
  {
   "cell_type": "code",
   "execution_count": null,
   "id": "11864291-0232-47c0-a65b-99cc21525658",
   "metadata": {},
   "outputs": [],
   "source": [
    "pd.concat([df1, df2])\n",
    "#or\n",
    "pd.concat([df1, df2], join = 'outer')\n",
    "#or \n",
    "pd.concat([df1, df2], join = 'outer', axi = 1) #it will do : table left table right\n"
   ]
  },
  {
   "cell_type": "code",
   "execution_count": null,
   "id": "87a403ca-e523-4120-bad0-8dcb1021f2f9",
   "metadata": {},
   "outputs": [],
   "source": []
  },
  {
   "cell_type": "code",
   "execution_count": null,
   "id": "db2dbfea-b07a-4a64-9d7f-41404988bf75",
   "metadata": {},
   "outputs": [],
   "source": [
    "df1.append(df2) # has been deleted use concat instead"
   ]
  }
 ],
 "metadata": {
  "kernelspec": {
   "display_name": "Python 3 (ipykernel)",
   "language": "python",
   "name": "python3"
  },
  "language_info": {
   "codemirror_mode": {
    "name": "ipython",
    "version": 3
   },
   "file_extension": ".py",
   "mimetype": "text/x-python",
   "name": "python",
   "nbconvert_exporter": "python",
   "pygments_lexer": "ipython3",
   "version": "3.11.7"
  }
 },
 "nbformat": 4,
 "nbformat_minor": 5
}
