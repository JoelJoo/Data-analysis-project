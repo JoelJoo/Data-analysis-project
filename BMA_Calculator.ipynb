{
 "cells": [
  {
   "cell_type": "code",
   "execution_count": 18,
   "id": "1ee99583-2831-4974-9298-45b374fb6b72",
   "metadata": {},
   "outputs": [
    {
     "name": "stdin",
     "output_type": "stream",
     "text": [
      "Enter your weight in pound :  0\n",
      "Enter your height in inches :  0\n"
     ]
    },
    {
     "ename": "ZeroDivisionError",
     "evalue": "division by zero",
     "output_type": "error",
     "traceback": [
      "\u001b[1;31m---------------------------------------------------------------------------\u001b[0m",
      "\u001b[1;31mZeroDivisionError\u001b[0m                         Traceback (most recent call last)",
      "Cell \u001b[1;32mIn[18], line 6\u001b[0m\n\u001b[0;32m      4\u001b[0m \u001b[38;5;28;01mif\u001b[39;00m height \u001b[38;5;241m==\u001b[39m \u001b[38;5;241m0\u001b[39m:\n\u001b[0;32m      5\u001b[0m     exit(\u001b[38;5;124m\"\u001b[39m\u001b[38;5;124mdivision not possible\u001b[39m\u001b[38;5;124m\"\u001b[39m)\n\u001b[1;32m----> 6\u001b[0m bmi \u001b[38;5;241m=\u001b[39m (weight \u001b[38;5;241m*\u001b[39m \u001b[38;5;241m703\u001b[39m) \u001b[38;5;241m/\u001b[39m (height \u001b[38;5;241m*\u001b[39m height)\n\u001b[0;32m      7\u001b[0m \u001b[38;5;28mprint\u001b[39m(bmi)\n",
      "\u001b[1;31mZeroDivisionError\u001b[0m: division by zero"
     ]
    }
   ],
   "source": [
    "weight = int(input(\"Enter your weight in pound : \"))\n",
    "\n",
    "height = int(input(\"Enter your height in inches : \"))\n",
    "if height == 0:\n",
    "    exit(\"division not possible\")\n",
    "bmi = (weight * 703) / (height * height)\n",
    "print(bmi)"
   ]
  },
  {
   "cell_type": "code",
   "execution_count": 16,
   "id": "c713d85b-be7f-4424-af9c-365f10513c89",
   "metadata": {},
   "outputs": [
    {
     "name": "stdout",
     "output_type": "stream",
     "text": [
      "Overweight Increased\n"
     ]
    }
   ],
   "source": [
    "\n",
    "\n",
    "if bmi > 0:\n",
    "    if (bmi < 18.5):\n",
    "        print(\"You are underweight\")\n",
    "    elif (bmi >= 18.5 and bmi < 24.9):\n",
    "        print(\"Normal weight\")\n",
    "    elif (bmi >= 25 and bmi < 29.9):\n",
    "        print(\"Overweight Increased\")\n",
    "    elif (bmi >= 30 and bmi < 34.5):\n",
    "        print(\"Obese Hight\")\n",
    "    elif (bmi >= 35 and bmi < 39.9):\n",
    "        print(\"Severely obese very hight\")\n",
    "    elif (bmi >= 40):\n",
    "        print(\"Over morbidly Extremely hight\")\n",
    "else:\n",
    "    print(\"you should enter a valid value\")"
   ]
  },
  {
   "cell_type": "code",
   "execution_count": null,
   "id": "e82b9ea0-3ff4-419c-a21d-268343fd250d",
   "metadata": {},
   "outputs": [],
   "source": []
  },
  {
   "cell_type": "code",
   "execution_count": null,
   "id": "cb0d89b3-c58c-4c7a-99ba-ada348bed79d",
   "metadata": {},
   "outputs": [],
   "source": []
  },
  {
   "cell_type": "code",
   "execution_count": null,
   "id": "46425917-42b9-471b-b1f1-7deb6e15ddf3",
   "metadata": {},
   "outputs": [],
   "source": []
  },
  {
   "cell_type": "code",
   "execution_count": null,
   "id": "b73c51e4-f8b8-4983-ab30-3f1ed49c1136",
   "metadata": {},
   "outputs": [],
   "source": []
  },
  {
   "cell_type": "code",
   "execution_count": 6,
   "id": "0f4bd4c1-de3d-4727-8f9c-976880a854e7",
   "metadata": {},
   "outputs": [],
   "source": [
    "#BMI CALCULATOR\n"
   ]
  },
  {
   "cell_type": "code",
   "execution_count": 4,
   "id": "17c582be-6e0e-4e7a-8202-3b8de0bf4bc8",
   "metadata": {},
   "outputs": [],
   "source": [
    "#BMI = (weight in pound * 703) / (height in inches * height in inches)\n"
   ]
  },
  {
   "cell_type": "code",
   "execution_count": null,
   "id": "efde6fe4-09a6-4e32-af2f-191f3d707f8b",
   "metadata": {},
   "outputs": [],
   "source": []
  },
  {
   "cell_type": "code",
   "execution_count": null,
   "id": "ab864ef3-adb5-4cdd-8b6b-b86a49030f43",
   "metadata": {},
   "outputs": [],
   "source": []
  },
  {
   "cell_type": "code",
   "execution_count": null,
   "id": "beaf189e-3b8b-47b2-b841-762a138432d7",
   "metadata": {},
   "outputs": [],
   "source": []
  }
 ],
 "metadata": {
  "kernelspec": {
   "display_name": "Python 3 (ipykernel)",
   "language": "python",
   "name": "python3"
  },
  "language_info": {
   "codemirror_mode": {
    "name": "ipython",
    "version": 3
   },
   "file_extension": ".py",
   "mimetype": "text/x-python",
   "name": "python",
   "nbconvert_exporter": "python",
   "pygments_lexer": "ipython3",
   "version": "3.11.7"
  }
 },
 "nbformat": 4,
 "nbformat_minor": 5
}
