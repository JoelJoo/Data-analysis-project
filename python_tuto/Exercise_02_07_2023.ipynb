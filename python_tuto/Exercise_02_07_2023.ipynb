{
 "cells": [
  {
   "cell_type": "code",
   "execution_count": 35,
   "id": "c2c2c526-f5aa-4319-a5e8-7e1e44c723cc",
   "metadata": {},
   "outputs": [
    {
     "data": {
      "text/plain": [
       "'Exercise 1: Calculate the multiplication and sum of two numbers\\nGiven two integer numbers, return their product only if the product is equal to or lower than 1000. Otherwise, return their sum.\\n'"
      ]
     },
     "execution_count": 35,
     "metadata": {},
     "output_type": "execute_result"
    }
   ],
   "source": [
    "\"\"\"Exercise 1: Calculate the multiplication and sum of two numbers\n",
    "Given two integer numbers, return their product only if the product is equal to or lower than 1000. Otherwise, return their sum.\n",
    "\"\"\""
   ]
  },
  {
   "cell_type": "code",
   "execution_count": 39,
   "id": "bc631730-64cd-43e2-bbc9-5322bca762c8",
   "metadata": {},
   "outputs": [],
   "source": [
    "def calculate_multi_and_sum(number1, number2):\n",
    "    mult = number1 * number2\n",
    "    sum = number1 + number2\n",
    "    x = 0\n",
    "    if (mult <= 1000):\n",
    "        x = mult\n",
    "    else:\n",
    "        x = sum\n",
    "    print(x)"
   ]
  },
  {
   "cell_type": "code",
   "execution_count": 40,
   "id": "c58b940a-e610-4915-a10e-cf3c307f1b8a",
   "metadata": {},
   "outputs": [
    {
     "name": "stdout",
     "output_type": "stream",
     "text": [
      "600\n"
     ]
    }
   ],
   "source": [
    "calculate_multi_and_sum(20, 30)"
   ]
  },
  {
   "cell_type": "code",
   "execution_count": 41,
   "id": "575a9a0f-f379-4420-9afe-5f04b4fef60c",
   "metadata": {},
   "outputs": [
    {
     "name": "stdout",
     "output_type": "stream",
     "text": [
      "70\n"
     ]
    }
   ],
   "source": [
    "calculate_multi_and_sum(40, 30)"
   ]
  },
  {
   "cell_type": "code",
   "execution_count": 42,
   "id": "8534772e-c2bf-4a26-9c62-9641b13ca7a4",
   "metadata": {},
   "outputs": [
    {
     "data": {
      "text/plain": [
       "'Exercise 2: Print the sum of the current number and the previous number\\nWrite a program to iterate the first 10 numbers, and in each iteration, print the sum of the current and previous number.\\n'"
      ]
     },
     "execution_count": 42,
     "metadata": {},
     "output_type": "execute_result"
    }
   ],
   "source": [
    "\"\"\"Exercise 2: Print the sum of the current number and the previous number\n",
    "Write a program to iterate the first 10 numbers, and in each iteration, print the sum of the current and previous number.\n",
    "\"\"\""
   ]
  },
  {
   "cell_type": "code",
   "execution_count": 52,
   "id": "fde91322-c96c-4721-ae47-0dfa6d098939",
   "metadata": {},
   "outputs": [],
   "source": [
    "def sum_current_and_previous():\n",
    "    x = 0\n",
    "    for x in range(0, 10):\n",
    "        if x == 0:\n",
    "            print(\"Current Number\", x, \"Previous Number\", x, \"Sum\", x)\n",
    "        else:\n",
    "            print(\"Current Number\", x, \"Previous Number\", x - 1, \"Sum\", (x-1) + x)\n",
    "        x += 1"
   ]
  },
  {
   "cell_type": "code",
   "execution_count": 53,
   "id": "55bc2d0f-4243-4218-82c2-1f46a50718cd",
   "metadata": {},
   "outputs": [
    {
     "name": "stdout",
     "output_type": "stream",
     "text": [
      "Current Number 0 Previous Number 0 Sum 0\n",
      "Current Number 1 Previous Number 0 Sum 1\n",
      "Current Number 2 Previous Number 1 Sum 3\n",
      "Current Number 3 Previous Number 2 Sum 5\n",
      "Current Number 4 Previous Number 3 Sum 7\n",
      "Current Number 5 Previous Number 4 Sum 9\n",
      "Current Number 6 Previous Number 5 Sum 11\n",
      "Current Number 7 Previous Number 6 Sum 13\n",
      "Current Number 8 Previous Number 7 Sum 15\n",
      "Current Number 9 Previous Number 8 Sum 17\n"
     ]
    }
   ],
   "source": [
    "sum_current_and_previous()"
   ]
  },
  {
   "cell_type": "code",
   "execution_count": 54,
   "id": "469c68e9-831d-43ce-8a00-3a786758c6d8",
   "metadata": {},
   "outputs": [
    {
     "data": {
      "text/plain": [
       "'Exercise 3: Print characters from a string that are present at an even index number\\nWrite a program to accept a string from the user and display characters that are present at an even index number.\\n\\nFor example, str = \"pynative\" so you should display ‘p’, ‘n’, ‘t’, ‘v’.\\n'"
      ]
     },
     "execution_count": 54,
     "metadata": {},
     "output_type": "execute_result"
    }
   ],
   "source": [
    "\"\"\"Exercise 3: Print characters from a string that are present at an even index number\n",
    "Write a program to accept a string from the user and display characters that are present at an even index number.\n",
    "\n",
    "For example, str = \"pynative\" so you should display ‘p’, ‘n’, ‘t’, ‘v’.\n",
    "\"\"\""
   ]
  },
  {
   "cell_type": "code",
   "execution_count": 55,
   "id": "02ccebdb-29f6-4980-9490-6224df24de62",
   "metadata": {},
   "outputs": [],
   "source": [
    "def print_charactere_from_string(string):\n",
    "    for i in string:\n",
    "        print(i)\n"
   ]
  },
  {
   "cell_type": "code",
   "execution_count": 56,
   "id": "304634c3-3271-4fad-973d-a8d60b8c421c",
   "metadata": {},
   "outputs": [
    {
     "name": "stdout",
     "output_type": "stream",
     "text": [
      "B\n",
      "o\n",
      "n\n",
      "j\n",
      "o\n",
      "u\n",
      "r\n"
     ]
    }
   ],
   "source": [
    "print_charactere_from_string(\"Bonjour\")"
   ]
  },
  {
   "cell_type": "code",
   "execution_count": 57,
   "id": "a87d22b1-70cd-4924-b1a4-85189dce6c64",
   "metadata": {},
   "outputs": [
    {
     "data": {
      "text/plain": [
       "'Exercise 4: Remove first n characters from a string\\nWrite a program to remove characters from a string starting from zero up to n and return a new string.\\n\\nFor example:\\n\\nremove_chars(\"pynative\", 4) so output must be tive. Here, we need to remove the first four characters from a string\\n'"
      ]
     },
     "execution_count": 57,
     "metadata": {},
     "output_type": "execute_result"
    }
   ],
   "source": [
    "\"\"\"Exercise 4: Remove first n characters from a string\n",
    "Write a program to remove characters from a string starting from zero up to n and return a new string.\n",
    "\n",
    "For example:\n",
    "\n",
    "remove_chars(\"pynative\", 4) so output must be tive. Here, we need to remove the first four characters from a string\n",
    "\"\"\""
   ]
  },
  {
   "cell_type": "code",
   "execution_count": 58,
   "id": "f0165035-8c72-4a15-8a57-9ab6e52b6f3b",
   "metadata": {},
   "outputs": [],
   "source": [
    "def remove_first_n_charactere(string, number):\n",
    "    print(string[number:])"
   ]
  },
  {
   "cell_type": "code",
   "execution_count": 60,
   "id": "82ddcd8b-319b-4f85-a40a-a1275ff8c9c0",
   "metadata": {},
   "outputs": [
    {
     "name": "stdout",
     "output_type": "stream",
     "text": [
      "native\n"
     ]
    }
   ],
   "source": [
    "remove_first_n_charactere(\"pynative\", 2)"
   ]
  },
  {
   "cell_type": "code",
   "execution_count": 61,
   "id": "fa8bce9a-dc6b-4a43-92e6-1c9c51b3737e",
   "metadata": {},
   "outputs": [
    {
     "data": {
      "text/plain": [
       "'Exercise 5: Check if the first and last number of a list is the same\\nWrite a function to return True if the first and last number of a given list is same. If numbers are different then return False\\n'"
      ]
     },
     "execution_count": 61,
     "metadata": {},
     "output_type": "execute_result"
    }
   ],
   "source": [
    "\"\"\"Exercise 5: Check if the first and last number of a list is the same\n",
    "Write a function to return True if the first and last number of a given list is same. If numbers are different then return False\n",
    "\"\"\""
   ]
  },
  {
   "cell_type": "code",
   "execution_count": 67,
   "id": "9ec96f05-3853-4279-93af-451154446b36",
   "metadata": {},
   "outputs": [],
   "source": [
    "def is_last_and_first_same(list):\n",
    "    return (list[0] == list[len(list) - 1])"
   ]
  },
  {
   "cell_type": "code",
   "execution_count": 68,
   "id": "5ab0d2a3-dc38-48f5-a50a-2fdc97697670",
   "metadata": {},
   "outputs": [
    {
     "data": {
      "text/plain": [
       "True"
      ]
     },
     "execution_count": 68,
     "metadata": {},
     "output_type": "execute_result"
    }
   ],
   "source": [
    "numbers_x = [10, 20, 30, 40, 10]\n",
    "is_last_and_first_same(numbers_x)"
   ]
  },
  {
   "cell_type": "code",
   "execution_count": 69,
   "id": "4a720614-9108-4a04-b6b5-7c7a84fd8add",
   "metadata": {},
   "outputs": [
    {
     "data": {
      "text/plain": [
       "False"
      ]
     },
     "execution_count": 69,
     "metadata": {},
     "output_type": "execute_result"
    }
   ],
   "source": [
    "numbers_y = [75, 65, 35, 75, 30]\n",
    "is_last_and_first_same(numbers_y)"
   ]
  },
  {
   "cell_type": "code",
   "execution_count": 70,
   "id": "182747a3-7e67-463e-900f-0135fdd8abf7",
   "metadata": {},
   "outputs": [
    {
     "data": {
      "text/plain": [
       "'Exercise 6: Display numbers divisible by 5 from a list\\nIterate the given list of numbers and print only those numbers which are divisible by 5\\n'"
      ]
     },
     "execution_count": 70,
     "metadata": {},
     "output_type": "execute_result"
    }
   ],
   "source": [
    "\"\"\"Exercise 6: Display numbers divisible by 5 from a list\n",
    "Iterate the given list of numbers and print only those numbers which are divisible by 5\n",
    "\"\"\""
   ]
  },
  {
   "cell_type": "code",
   "execution_count": 71,
   "id": "dcd0dea6-bef7-4f81-a644-6d03955b2242",
   "metadata": {},
   "outputs": [],
   "source": [
    "def is_value_divisible_by_five(list):\n",
    "    for i in list:\n",
    "        if i % 5 == 0:\n",
    "            print(i)"
   ]
  },
  {
   "cell_type": "code",
   "execution_count": 72,
   "id": "bf9fba21-19eb-409d-ad5d-0412daba92d8",
   "metadata": {},
   "outputs": [
    {
     "name": "stdout",
     "output_type": "stream",
     "text": [
      "10\n",
      "20\n",
      "55\n"
     ]
    }
   ],
   "source": [
    "list = [10, 20, 33, 46, 55]\n",
    "is_value_divisible_by_five(list)"
   ]
  },
  {
   "cell_type": "code",
   "execution_count": 73,
   "id": "09962dd2-6052-42b4-9e51-7f1d9330a3fc",
   "metadata": {},
   "outputs": [
    {
     "data": {
      "text/plain": [
       "'\"Exercise 7: Return the count of a given substring from a string\\nWrite a program to find how many times substring “Emma” appears in the given string.\\n'"
      ]
     },
     "execution_count": 73,
     "metadata": {},
     "output_type": "execute_result"
    }
   ],
   "source": [
    "\"\"\"\"Exercise 7: Return the count of a given substring from a string\n",
    "Write a program to find how many times substring “Emma” appears in the given string.\n",
    "\"\"\""
   ]
  },
  {
   "cell_type": "code",
   "execution_count": 76,
   "id": "f6bb454d-a0a2-415e-8333-a7f3377ca6d9",
   "metadata": {},
   "outputs": [],
   "source": [
    "def count_given_substring(string, lookfor):\n",
    "    return string.count(lookfor)"
   ]
  },
  {
   "cell_type": "code",
   "execution_count": 77,
   "id": "d83c3ac3-73ba-4794-86ce-d974c8c8a8e1",
   "metadata": {},
   "outputs": [
    {
     "data": {
      "text/plain": [
       "2"
      ]
     },
     "execution_count": 77,
     "metadata": {},
     "output_type": "execute_result"
    }
   ],
   "source": [
    "count_given_substring(\"Emma is good developer. Emma is a writer\", \"Emma\")"
   ]
  },
  {
   "cell_type": "code",
   "execution_count": 78,
   "id": "834c8bbf-da02-4bf2-9b7a-b662def6a195",
   "metadata": {},
   "outputs": [
    {
     "data": {
      "text/plain": [
       "'Exercise 8: Print the following pattern\\n1\\n22\\n333\\n4444\\n55555\\n'"
      ]
     },
     "execution_count": 78,
     "metadata": {},
     "output_type": "execute_result"
    }
   ],
   "source": [
    "\"\"\"Exercise 8: Print the following pattern\n",
    "1\n",
    "22\n",
    "333\n",
    "4444\n",
    "55555\n",
    "\"\"\""
   ]
  },
  {
   "cell_type": "code",
   "execution_count": 93,
   "id": "4c38b8e3-92f0-4857-bca4-97f2b55d36c6",
   "metadata": {},
   "outputs": [],
   "source": [
    "def print_pattern(size):\n",
    "    for i in range(size + 1):\n",
    "        for j in range(i):\n",
    "            print(i, end=' ')\n",
    "        print()"
   ]
  },
  {
   "cell_type": "code",
   "execution_count": 94,
   "id": "c40fdb49-f925-47df-8f14-cea11635916c",
   "metadata": {},
   "outputs": [
    {
     "name": "stdout",
     "output_type": "stream",
     "text": [
      "\n",
      "1 \n",
      "2 2 \n",
      "3 3 3 \n",
      "4 4 4 4 \n",
      "5 5 5 5 5 \n",
      "6 6 6 6 6 6 \n",
      "7 7 7 7 7 7 7 \n",
      "8 8 8 8 8 8 8 8 \n",
      "9 9 9 9 9 9 9 9 9 \n"
     ]
    }
   ],
   "source": [
    "print_pattern(9)\n"
   ]
  },
  {
   "cell_type": "code",
   "execution_count": null,
   "id": "5e99c0ae-b0ef-41a0-af7f-752672a404db",
   "metadata": {},
   "outputs": [],
   "source": []
  }
 ],
 "metadata": {
  "kernelspec": {
   "display_name": "Python 3 (ipykernel)",
   "language": "python",
   "name": "python3"
  },
  "language_info": {
   "codemirror_mode": {
    "name": "ipython",
    "version": 3
   },
   "file_extension": ".py",
   "mimetype": "text/x-python",
   "name": "python",
   "nbconvert_exporter": "python",
   "pygments_lexer": "ipython3",
   "version": "3.11.7"
  }
 },
 "nbformat": 4,
 "nbformat_minor": 5
}
