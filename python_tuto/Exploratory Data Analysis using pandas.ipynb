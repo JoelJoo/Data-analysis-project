{
 "cells": [
  {
   "cell_type": "markdown",
   "id": "25a0fe37-3dda-4c6a-b32e-8cb5f7bccf65",
   "metadata": {},
   "source": [
    "EDA in PANDAS\n"
   ]
  },
  {
   "cell_type": "code",
   "execution_count": 1,
   "id": "a56b1043-3930-4f51-b96d-40d1653c168e",
   "metadata": {},
   "outputs": [],
   "source": [
    "import pandas as pd\n",
    "import matplotlib.pyplot as plt\n",
    "import seaborn as sns\n"
   ]
  },
  {
   "cell_type": "code",
   "execution_count": null,
   "id": "48b88ddd-3f1f-4644-8daf-fa4896990098",
   "metadata": {},
   "outputs": [],
   "source": [
    "df = pd.read_csv(r'filename')\n",
    "df"
   ]
  },
  {
   "cell_type": "code",
   "execution_count": null,
   "id": "b998ce23-79ee-4dcc-82fb-5290685b3873",
   "metadata": {},
   "outputs": [],
   "source": [
    "pd.set_option('display.float.format', lambda x : '%.2f' % x)\n",
    "df"
   ]
  },
  {
   "cell_type": "code",
   "execution_count": null,
   "id": "e3887555-338a-40ad-87db-b91a65d3312f",
   "metadata": {},
   "outputs": [],
   "source": [
    "df.info()"
   ]
  },
  {
   "cell_type": "code",
   "execution_count": null,
   "id": "71f56031-63c1-4820-8ad7-946cc624e32f",
   "metadata": {},
   "outputs": [],
   "source": [
    "df.describe()"
   ]
  },
  {
   "cell_type": "code",
   "execution_count": null,
   "id": "5aaf3b53-980d-468b-bd9a-1780d3d16d62",
   "metadata": {},
   "outputs": [],
   "source": [
    "df.isnull().sum()\n",
    "#doonner pour chaque ligne la somme des valeur null"
   ]
  },
  {
   "cell_type": "code",
   "execution_count": null,
   "id": "9b8e924a-2cf5-4c86-80cc-b86e5b60e7f7",
   "metadata": {},
   "outputs": [],
   "source": [
    "df.nunique()\n"
   ]
  },
  {
   "cell_type": "code",
   "execution_count": null,
   "id": "38b94e97-620f-45cc-869f-ca322d51656e",
   "metadata": {},
   "outputs": [],
   "source": [
    "df.sort_values(by=\"fiel\", ascending=False).head(10)"
   ]
  },
  {
   "cell_type": "code",
   "execution_count": null,
   "id": "8fca80bd-3ab1-4785-ab9d-7f547ba24436",
   "metadata": {},
   "outputs": [],
   "source": [
    "df.corr()\n"
   ]
  },
  {
   "cell_type": "code",
   "execution_count": null,
   "id": "34ec46de-fef2-4237-8f6e-81a9dfce8c9f",
   "metadata": {},
   "outputs": [],
   "source": [
    "sns.heatmap(df.corr(), annot = True)\n",
    "plt.rcParams['figure.figsize'] = (20, 7)\n",
    "plt.show()"
   ]
  },
  {
   "cell_type": "code",
   "execution_count": null,
   "id": "aba60d2a-6128-419a-8577-2fc1c4151bfc",
   "metadata": {},
   "outputs": [],
   "source": []
  },
  {
   "cell_type": "code",
   "execution_count": null,
   "id": "d26c188e-26bc-4407-844c-8d4a89988914",
   "metadata": {},
   "outputs": [],
   "source": [
    "df.groupby('Continent').mean()\n"
   ]
  },
  {
   "cell_type": "code",
   "execution_count": null,
   "id": "9aae7c3f-7d34-404c-b286-8cee3d0b9c4b",
   "metadata": {},
   "outputs": [],
   "source": [
    "df[df['Continent'].str.contains('Oceania')]\n"
   ]
  },
  {
   "cell_type": "code",
   "execution_count": null,
   "id": "c56beadf-40f0-4a71-a2f1-7016ff46fedb",
   "metadata": {},
   "outputs": [],
   "source": [
    "df[df['Continent'].str.contains('Oceania')].sort_values(by=\"fiel\", ascending=False).head(10)"
   ]
  },
  {
   "cell_type": "code",
   "execution_count": null,
   "id": "ddcfa675-2a5e-47f6-8be3-e55247b92ced",
   "metadata": {},
   "outputs": [],
   "source": [
    "df2 = df.groupby('Continent').mean().sort_values(by=\"Population\", ascending=False).head(10)"
   ]
  },
  {
   "cell_type": "code",
   "execution_count": null,
   "id": "bc28a6da-42a1-43fa-84ed-dfb6fa8c999b",
   "metadata": {},
   "outputs": [],
   "source": [
    "df2.plot()"
   ]
  },
  {
   "cell_type": "code",
   "execution_count": null,
   "id": "8cef6cff-e019-4ab4-8d1b-a05601ce1626",
   "metadata": {},
   "outputs": [],
   "source": [
    "#transformer les colonne en index et les index en colonne\n"
   ]
  },
  {
   "cell_type": "code",
   "execution_count": null,
   "id": "a64e8ed7-3911-4d20-a288-cb3b0f5041f8",
   "metadata": {},
   "outputs": [],
   "source": [
    "df3 = df2.transpose()\n"
   ]
  },
  {
   "cell_type": "code",
   "execution_count": null,
   "id": "1d93f893-ad4c-4423-b6ff-ef228e211daf",
   "metadata": {},
   "outputs": [],
   "source": [
    "df3.plot()"
   ]
  },
  {
   "cell_type": "code",
   "execution_count": null,
   "id": "e6dccd27-efdc-46a5-9654-b16508ed542b",
   "metadata": {},
   "outputs": [],
   "source": []
  },
  {
   "cell_type": "code",
   "execution_count": null,
   "id": "911ab97c-9b4f-4a27-b1b1-0c6e75862c6a",
   "metadata": {},
   "outputs": [],
   "source": [
    "df.columns\n",
    "df2 = df.groupby('Continent')['column1', 'column2', 'etc'].mean().sort_values(by=\"Population\", ascending=False).head(10)\n",
    "\n",
    "#or \n",
    "df2 = df.groupby('Continent')[df.columns[5:3]].mean().sort_values(by=\"Population\", ascending=False).head(10)\n"
   ]
  },
  {
   "cell_type": "code",
   "execution_count": null,
   "id": "8105c464-e2e0-45b1-8196-9538f85c26de",
   "metadata": {},
   "outputs": [],
   "source": [
    "df3.plot()"
   ]
  },
  {
   "cell_type": "code",
   "execution_count": null,
   "id": "edcb9dcc-336f-4e83-8a34-df2c77e6541a",
   "metadata": {},
   "outputs": [],
   "source": [
    "df.boxplot()"
   ]
  },
  {
   "cell_type": "code",
   "execution_count": null,
   "id": "9f40012a-1d24-4609-a293-c784a12f3730",
   "metadata": {},
   "outputs": [],
   "source": [
    "df.dtypes"
   ]
  },
  {
   "cell_type": "code",
   "execution_count": null,
   "id": "0e300acf-a8aa-4ef9-89bf-1054c8621cf2",
   "metadata": {},
   "outputs": [],
   "source": [
    "df.set_dtypes(include='number') #float, object\n",
    "#return all columns that contain numerical values"
   ]
  }
 ],
 "metadata": {
  "kernelspec": {
   "display_name": "Python 3 (ipykernel)",
   "language": "python",
   "name": "python3"
  },
  "language_info": {
   "codemirror_mode": {
    "name": "ipython",
    "version": 3
   },
   "file_extension": ".py",
   "mimetype": "text/x-python",
   "name": "python",
   "nbconvert_exporter": "python",
   "pygments_lexer": "ipython3",
   "version": "3.11.7"
  }
 },
 "nbformat": 4,
 "nbformat_minor": 5
}
