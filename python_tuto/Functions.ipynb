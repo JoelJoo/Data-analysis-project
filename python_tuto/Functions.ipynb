{
 "cells": [
  {
   "cell_type": "code",
   "execution_count": 2,
   "id": "db6aec19-84e2-496a-952e-173b43ac7f9e",
   "metadata": {},
   "outputs": [],
   "source": [
    "def first_func():\n",
    "    print(\"We did it\")"
   ]
  },
  {
   "cell_type": "code",
   "execution_count": 3,
   "id": "5fa5550a-27e5-4f6b-9330-64f7f18668ff",
   "metadata": {},
   "outputs": [
    {
     "name": "stdout",
     "output_type": "stream",
     "text": [
      "We did it\n"
     ]
    }
   ],
   "source": [
    "first_func()"
   ]
  },
  {
   "cell_type": "code",
   "execution_count": 10,
   "id": "331b8f3e-2202-4cfc-9b2e-26c6f9521284",
   "metadata": {},
   "outputs": [],
   "source": [
    "def number_squared(number):\n",
    "    print(number**2)"
   ]
  },
  {
   "cell_type": "code",
   "execution_count": 11,
   "id": "3eb324ac-fe42-4c8f-8abb-2b6331b21157",
   "metadata": {},
   "outputs": [
    {
     "name": "stdout",
     "output_type": "stream",
     "text": [
      "25\n"
     ]
    }
   ],
   "source": [
    "number_squared(5)"
   ]
  },
  {
   "cell_type": "code",
   "execution_count": 12,
   "id": "1db8f415-f1b3-43f1-9eb5-3d6b465f0f8f",
   "metadata": {},
   "outputs": [],
   "source": [
    "def number_squared(number, power):\n",
    "    print(number**power)\n",
    "    "
   ]
  },
  {
   "cell_type": "code",
   "execution_count": 13,
   "id": "242eb745-b5f3-48ec-b8fb-96480465d19f",
   "metadata": {},
   "outputs": [
    {
     "name": "stdout",
     "output_type": "stream",
     "text": [
      "3125\n"
     ]
    }
   ],
   "source": [
    "number_squared(5, 5)"
   ]
  },
  {
   "cell_type": "code",
   "execution_count": 16,
   "id": "2541e3f6-4e69-490b-8cf5-048874701d6c",
   "metadata": {},
   "outputs": [],
   "source": [
    "args_tuple = (5, 6, 7, 9)\n",
    "def number_args(*numbers):\n",
    "    print(numbers[0]*numbers[1])"
   ]
  },
  {
   "cell_type": "code",
   "execution_count": 18,
   "id": "2e690cb3-748b-4269-abb9-ecc219aa9158",
   "metadata": {},
   "outputs": [
    {
     "name": "stdout",
     "output_type": "stream",
     "text": [
      "30\n"
     ]
    }
   ],
   "source": [
    "number_args(*args_tuple)"
   ]
  },
  {
   "cell_type": "code",
   "execution_count": 19,
   "id": "69ba6131-337c-4045-bc97-aac1b1bb321c",
   "metadata": {},
   "outputs": [],
   "source": [
    "def number_squared(number, power):\n",
    "    print(number**power)\n",
    "    "
   ]
  },
  {
   "cell_type": "code",
   "execution_count": 21,
   "id": "721b51ee-5c49-4dde-a28c-70846a8184a7",
   "metadata": {},
   "outputs": [
    {
     "name": "stdout",
     "output_type": "stream",
     "text": [
      "25\n"
     ]
    }
   ],
   "source": [
    "number_squared(power=2, number=5)"
   ]
  },
  {
   "cell_type": "code",
   "execution_count": 32,
   "id": "c9f7fa39-3eef-4760-9fc7-1ad725a1430f",
   "metadata": {},
   "outputs": [],
   "source": [
    "\n",
    "def number_kwarg(**number):\n",
    "    print('my number is :' + number['Integer'] + ' My other number : ' + number['Integer2'])\n",
    "    "
   ]
  },
  {
   "cell_type": "code",
   "execution_count": 33,
   "id": "2d5a8f99-2b83-408d-bb60-a77f97f21679",
   "metadata": {},
   "outputs": [
    {
     "name": "stdout",
     "output_type": "stream",
     "text": [
      "my number is :2024 My other number : 2003\n"
     ]
    }
   ],
   "source": [
    "number_kwarg(Integer = \"2024\", Integer2 = \"2003\")"
   ]
  },
  {
   "cell_type": "code",
   "execution_count": null,
   "id": "f30df018-c1b7-4e73-a3c3-0b1d54648ba3",
   "metadata": {},
   "outputs": [],
   "source": []
  },
  {
   "cell_type": "code",
   "execution_count": null,
   "id": "a7959de5-d811-43ea-8a06-fcf4bfa677b7",
   "metadata": {},
   "outputs": [],
   "source": []
  }
 ],
 "metadata": {
  "kernelspec": {
   "display_name": "Python 3 (ipykernel)",
   "language": "python",
   "name": "python3"
  },
  "language_info": {
   "codemirror_mode": {
    "name": "ipython",
    "version": 3
   },
   "file_extension": ".py",
   "mimetype": "text/x-python",
   "name": "python",
   "nbconvert_exporter": "python",
   "pygments_lexer": "ipython3",
   "version": "3.11.7"
  }
 },
 "nbformat": 4,
 "nbformat_minor": 5
}
