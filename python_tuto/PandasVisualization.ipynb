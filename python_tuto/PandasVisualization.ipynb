{
 "cells": [
  {
   "cell_type": "markdown",
   "id": "c37500c3-986a-41ff-91c8-c73f53a90c2b",
   "metadata": {},
   "source": [
    "PANDA VISUALIZATION"
   ]
  },
  {
   "cell_type": "code",
   "execution_count": 1,
   "id": "6170ac75-23e4-4f43-aa2b-efd22d4a4fd3",
   "metadata": {},
   "outputs": [],
   "source": [
    "import pandas as pd\n",
    "import numpy as np\n",
    "import matplotlib.pyplot as plt\n"
   ]
  },
  {
   "cell_type": "code",
   "execution_count": null,
   "id": "b2ec9c7c-7797-4ab7-944f-b203944888b9",
   "metadata": {},
   "outputs": [],
   "source": [
    "df1 = pd.read_csv('name of the csv file')\n",
    "df1.set_index('Date')\n",
    "df1"
   ]
  },
  {
   "cell_type": "code",
   "execution_count": 6,
   "id": "1d07522c-c590-4871-ab58-a50fc5c5b913",
   "metadata": {},
   "outputs": [
    {
     "name": "stdout",
     "output_type": "stream",
     "text": [
      "['Solarize_Light2', '_classic_test_patch', '_mpl-gallery', '_mpl-gallery-nogrid', 'bmh', 'classic', 'dark_background', 'fast', 'fivethirtyeight', 'ggplot', 'grayscale', 'seaborn-v0_8', 'seaborn-v0_8-bright', 'seaborn-v0_8-colorblind', 'seaborn-v0_8-dark', 'seaborn-v0_8-dark-palette', 'seaborn-v0_8-darkgrid', 'seaborn-v0_8-deep', 'seaborn-v0_8-muted', 'seaborn-v0_8-notebook', 'seaborn-v0_8-paper', 'seaborn-v0_8-pastel', 'seaborn-v0_8-poster', 'seaborn-v0_8-talk', 'seaborn-v0_8-ticks', 'seaborn-v0_8-white', 'seaborn-v0_8-whitegrid', 'tableau-colorblind10']\n"
     ]
    }
   ],
   "source": [
    "#print all visualization type\n",
    "\n",
    "print(plt.style.available)\n",
    "plt.style.use('Solarize_Light2')"
   ]
  },
  {
   "cell_type": "code",
   "execution_count": null,
   "id": "67f9604f-7954-40aa-a064-2351abb5d87d",
   "metadata": {},
   "outputs": [],
   "source": [
    "df1.plot()"
   ]
  },
  {
   "cell_type": "code",
   "execution_count": null,
   "id": "0f0e0579-51fd-4197-93dd-adae5a1ffd5b",
   "metadata": {},
   "outputs": [],
   "source": [
    "df1.plot(kind = 'line')\n",
    "#or \n",
    "df1.plot(kind = 'line', subplots = True) #it will separate for each data into different graph"
   ]
  },
  {
   "cell_type": "code",
   "execution_count": null,
   "id": "8ccd36b1-33c6-42fc-9e0e-b299b56cd3ba",
   "metadata": {},
   "outputs": [],
   "source": [
    "df1.plot(kind = 'line', title = 'title that will appear up', xlabel = \"title that's going to appear under, abcisse\", ylabel='y , left side' )"
   ]
  },
  {
   "cell_type": "code",
   "execution_count": null,
   "id": "291f68c2-71fb-47ad-b695-60c5459b4403",
   "metadata": {},
   "outputs": [],
   "source": [
    "#standed bar"
   ]
  },
  {
   "cell_type": "code",
   "execution_count": null,
   "id": "c69a3b3b-7bed-44bf-852e-791677f3709d",
   "metadata": {},
   "outputs": [],
   "source": [
    "df1.plot(kind = 'bar')\n",
    "#or\n",
    "df1.plot(kind = 'bar', stacked = True)\n",
    "#or we can specify the column we want \n",
    "df1['name of the column'].plot(kind = 'bar', stacked = True)"
   ]
  },
  {
   "cell_type": "code",
   "execution_count": null,
   "id": "a2ca73ac-4f3e-4cbf-be70-cb9badbb7192",
   "metadata": {},
   "outputs": [],
   "source": [
    "# not standed bar"
   ]
  },
  {
   "cell_type": "code",
   "execution_count": null,
   "id": "44072831-a30b-4b5e-94a5-574c92575591",
   "metadata": {},
   "outputs": [],
   "source": [
    "df1.plot.barh(stacked = True)\n"
   ]
  },
  {
   "cell_type": "code",
   "execution_count": null,
   "id": "657e06e1-a968-4cbf-81e2-4f4ccde8c594",
   "metadata": {},
   "outputs": [],
   "source": [
    "df1.plot.scatter(x = 'abcisse name', y = 'left side name') # for more option, s = point size, c = color"
   ]
  },
  {
   "cell_type": "code",
   "execution_count": null,
   "id": "6e3c01a7-0b0d-4bcc-a812-cf6c5a8cfb97",
   "metadata": {},
   "outputs": [],
   "source": [
    "df1.plot.hist(bin = 20) "
   ]
  },
  {
   "cell_type": "code",
   "execution_count": 4,
   "id": "e883b5ad-70d7-4cdc-8369-18ecc1d832e6",
   "metadata": {},
   "outputs": [],
   "source": [
    "#box plot\n"
   ]
  },
  {
   "cell_type": "code",
   "execution_count": null,
   "id": "0ae18aed-f6a0-4b1c-b018-61a96ace57ea",
   "metadata": {},
   "outputs": [],
   "source": [
    "df1.boxplot()"
   ]
  },
  {
   "cell_type": "code",
   "execution_count": 3,
   "id": "7d1c7390-76c8-41b0-8000-55f7afc794e1",
   "metadata": {},
   "outputs": [],
   "source": [
    "#area plot"
   ]
  },
  {
   "cell_type": "code",
   "execution_count": null,
   "id": "03a3e630-5ab0-4cfa-a900-3432cb75f4bf",
   "metadata": {},
   "outputs": [],
   "source": [
    "df1.plot.area(figsize = (10, 5))\n"
   ]
  },
  {
   "cell_type": "code",
   "execution_count": 5,
   "id": "4e3f657f-2da2-4b87-8a13-562648086728",
   "metadata": {},
   "outputs": [],
   "source": [
    "#pie plot\n"
   ]
  },
  {
   "cell_type": "code",
   "execution_count": null,
   "id": "bdd5f8f5-5679-4f55-8248-dbe768a18e56",
   "metadata": {},
   "outputs": [],
   "source": [
    "df1.plot.pie(y = 'fiel we want to visualize', figsize = (10, 6))"
   ]
  },
  {
   "cell_type": "code",
   "execution_count": null,
   "id": "6f211154-9ee3-4b22-9924-3a73fa57c6a2",
   "metadata": {},
   "outputs": [],
   "source": []
  }
 ],
 "metadata": {
  "kernelspec": {
   "display_name": "Python 3 (ipykernel)",
   "language": "python",
   "name": "python3"
  },
  "language_info": {
   "codemirror_mode": {
    "name": "ipython",
    "version": 3
   },
   "file_extension": ".py",
   "mimetype": "text/x-python",
   "name": "python",
   "nbconvert_exporter": "python",
   "pygments_lexer": "ipython3",
   "version": "3.11.7"
  }
 },
 "nbformat": 4,
 "nbformat_minor": 5
}
