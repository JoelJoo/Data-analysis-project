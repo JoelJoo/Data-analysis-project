{
 "cells": [
  {
   "cell_type": "code",
   "execution_count": 1,
   "id": "9a8769e7-facd-46e1-89ed-8bde20e47089",
   "metadata": {},
   "outputs": [
    {
     "data": {
      "text/plain": [
       "int"
      ]
     },
     "execution_count": 1,
     "metadata": {},
     "output_type": "execute_result"
    }
   ],
   "source": [
    "num_int = 7\n",
    "type(num_int)"
   ]
  },
  {
   "cell_type": "code",
   "execution_count": 2,
   "id": "1f107655-6ebe-4cdd-9708-55d902635468",
   "metadata": {},
   "outputs": [
    {
     "data": {
      "text/plain": [
       "str"
      ]
     },
     "execution_count": 2,
     "metadata": {},
     "output_type": "execute_result"
    }
   ],
   "source": [
    "num_str = '7'\n",
    "type(num_str)"
   ]
  },
  {
   "cell_type": "code",
   "execution_count": 4,
   "id": "afe2969a-3674-4bb0-b2ae-78c5e3363129",
   "metadata": {},
   "outputs": [
    {
     "data": {
      "text/plain": [
       "int"
      ]
     },
     "execution_count": 4,
     "metadata": {},
     "output_type": "execute_result"
    }
   ],
   "source": [
    "num_str_convert = int(num_str)\n",
    "type(num_str_convert)"
   ]
  },
  {
   "cell_type": "code",
   "execution_count": 6,
   "id": "9f5a51b3-d36e-494e-af63-2a222869a354",
   "metadata": {},
   "outputs": [
    {
     "name": "stdout",
     "output_type": "stream",
     "text": [
      "14\n"
     ]
    }
   ],
   "source": [
    "num_added = num_str_convert + num_int\n",
    "print(num_added)"
   ]
  },
  {
   "cell_type": "code",
   "execution_count": 7,
   "id": "9547a285-3cef-4927-b2ea-827d48323c8f",
   "metadata": {},
   "outputs": [
    {
     "data": {
      "text/plain": [
       "list"
      ]
     },
     "execution_count": 7,
     "metadata": {},
     "output_type": "execute_result"
    }
   ],
   "source": [
    "list_type = [1,2,3]\n",
    "type(list_type)"
   ]
  },
  {
   "cell_type": "code",
   "execution_count": 9,
   "id": "2a2a7592-bfd6-49f0-94e2-a0010a148523",
   "metadata": {},
   "outputs": [
    {
     "data": {
      "text/plain": [
       "tuple"
      ]
     },
     "execution_count": 9,
     "metadata": {},
     "output_type": "execute_result"
    }
   ],
   "source": [
    "type(tuple(list_type))"
   ]
  },
  {
   "cell_type": "code",
   "execution_count": 10,
   "id": "f8a581a2-4e0e-496e-b80a-28faed3e8ca8",
   "metadata": {},
   "outputs": [
    {
     "data": {
      "text/plain": [
       "set"
      ]
     },
     "execution_count": 10,
     "metadata": {},
     "output_type": "execute_result"
    }
   ],
   "source": [
    "list_type2 = [1,1,2,2,3,4,5]\n",
    "type(set(list_type2))"
   ]
  },
  {
   "cell_type": "code",
   "execution_count": 12,
   "id": "a0a65985-390b-4850-8863-051c431afdae",
   "metadata": {},
   "outputs": [
    {
     "data": {
      "text/plain": [
       "dict"
      ]
     },
     "execution_count": 12,
     "metadata": {},
     "output_type": "execute_result"
    }
   ],
   "source": [
    "dict_type = {'name': \"Joel\", 'age': 20, 'height': 1.75}\n",
    "type(dict_type)"
   ]
  },
  {
   "cell_type": "code",
   "execution_count": 14,
   "id": "e10973e7-befa-4728-b252-a25fb4fef0e0",
   "metadata": {},
   "outputs": [
    {
     "data": {
      "text/plain": [
       "dict_items([('name', 'Joel'), ('age', 20), ('height', 1.75)])"
      ]
     },
     "execution_count": 14,
     "metadata": {},
     "output_type": "execute_result"
    }
   ],
   "source": [
    "dict_type.items()"
   ]
  },
  {
   "cell_type": "code",
   "execution_count": 15,
   "id": "796b62f9-f28d-4f37-ad14-c3aaf6a3e8b0",
   "metadata": {},
   "outputs": [
    {
     "data": {
      "text/plain": [
       "dict_values(['Joel', 20, 1.75])"
      ]
     },
     "execution_count": 15,
     "metadata": {},
     "output_type": "execute_result"
    }
   ],
   "source": [
    "dict_type.values()"
   ]
  },
  {
   "cell_type": "code",
   "execution_count": 16,
   "id": "28e90a02-bba8-4f50-b835-181e11e933b1",
   "metadata": {},
   "outputs": [
    {
     "data": {
      "text/plain": [
       "dict_keys(['name', 'age', 'height'])"
      ]
     },
     "execution_count": 16,
     "metadata": {},
     "output_type": "execute_result"
    }
   ],
   "source": [
    "dict_type.keys()"
   ]
  },
  {
   "cell_type": "code",
   "execution_count": 17,
   "id": "117d0269-9279-45b2-be90-0c0d257546a4",
   "metadata": {},
   "outputs": [
    {
     "data": {
      "text/plain": [
       "['name', 'age', 'height']"
      ]
     },
     "execution_count": 17,
     "metadata": {},
     "output_type": "execute_result"
    }
   ],
   "source": [
    "list(dict_type.keys())"
   ]
  },
  {
   "cell_type": "code",
   "execution_count": 18,
   "id": "a6557f2d-2f06-4e2d-affd-4052e71c34c3",
   "metadata": {},
   "outputs": [
    {
     "data": {
      "text/plain": [
       "list"
      ]
     },
     "execution_count": 18,
     "metadata": {},
     "output_type": "execute_result"
    }
   ],
   "source": [
    "type(list(dict_type.keys()))"
   ]
  },
  {
   "cell_type": "code",
   "execution_count": 19,
   "id": "5ddcde38-0028-4ce5-97c1-3b42667c4e80",
   "metadata": {},
   "outputs": [
    {
     "data": {
      "text/plain": [
       "['I', ' ', 'l', 'i', 'k', 'e', ' ', 't', 'o', ' ', 'p', 'a', 'r', 't', 'y']"
      ]
     },
     "execution_count": 19,
     "metadata": {},
     "output_type": "execute_result"
    }
   ],
   "source": [
    "long_str = \"I like to party\"\n",
    "list(long_str)"
   ]
  },
  {
   "cell_type": "code",
   "execution_count": 20,
   "id": "8202deda-1ef7-4c01-a993-aa0f19757e37",
   "metadata": {},
   "outputs": [
    {
     "data": {
      "text/plain": [
       "{' ', 'I', 'a', 'e', 'i', 'k', 'l', 'o', 'p', 'r', 't', 'y'}"
      ]
     },
     "execution_count": 20,
     "metadata": {},
     "output_type": "execute_result"
    }
   ],
   "source": [
    "set(long_str)"
   ]
  },
  {
   "cell_type": "code",
   "execution_count": null,
   "id": "d8347e31-ab05-4255-8e2a-f6f489b64993",
   "metadata": {},
   "outputs": [],
   "source": []
  }
 ],
 "metadata": {
  "kernelspec": {
   "display_name": "Python 3 (ipykernel)",
   "language": "python",
   "name": "python3"
  },
  "language_info": {
   "codemirror_mode": {
    "name": "ipython",
    "version": 3
   },
   "file_extension": ".py",
   "mimetype": "text/x-python",
   "name": "python",
   "nbconvert_exporter": "python",
   "pygments_lexer": "ipython3",
   "version": "3.11.7"
  }
 },
 "nbformat": 4,
 "nbformat_minor": 5
}
