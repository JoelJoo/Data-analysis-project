{
 "cells": [
  {
   "cell_type": "code",
   "execution_count": 1,
   "id": "dea931d7-ea8b-4cea-9840-e47aa5e01895",
   "metadata": {},
   "outputs": [
    {
     "name": "stdout",
     "output_type": "stream",
     "text": [
      "Hello, World\n"
     ]
    }
   ],
   "source": [
    "print(\"Hello, World\")"
   ]
  },
  {
   "cell_type": "code",
   "execution_count": 3,
   "id": "6b8dc408-91ea-4180-8357-ea1d8c88c10b",
   "metadata": {},
   "outputs": [],
   "source": [
    "#First notebook"
   ]
  },
  {
   "cell_type": "code",
   "execution_count": null,
   "id": "a31a7f9c-3412-4eec-a601-90bb3f9c85cc",
   "metadata": {},
   "outputs": [],
   "source": []
  }
 ],
 "metadata": {
  "kernelspec": {
   "display_name": "Python 3 (ipykernel)",
   "language": "python",
   "name": "python3"
  },
  "language_info": {
   "codemirror_mode": {
    "name": "ipython",
    "version": 3
   },
   "file_extension": ".py",
   "mimetype": "text/x-python",
   "name": "python",
   "nbconvert_exporter": "python",
   "pygments_lexer": "ipython3",
   "version": "3.11.7"
  }
 },
 "nbformat": 4,
 "nbformat_minor": 5
}
