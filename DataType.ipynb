{
 "cells": [
  {
   "cell_type": "code",
   "execution_count": 1,
   "id": "9dca72fd-b4a9-465c-91e1-1ea478551a7a",
   "metadata": {},
   "outputs": [
    {
     "data": {
      "text/plain": [
       "int"
      ]
     },
     "execution_count": 1,
     "metadata": {},
     "output_type": "execute_result"
    }
   ],
   "source": [
    "type(-12 +45)"
   ]
  },
  {
   "cell_type": "code",
   "execution_count": 2,
   "id": "f48c343e-e692-4c65-99e4-41620722adbe",
   "metadata": {},
   "outputs": [
    {
     "data": {
      "text/plain": [
       "float"
      ]
     },
     "execution_count": 2,
     "metadata": {},
     "output_type": "execute_result"
    }
   ],
   "source": [
    "type(-12 +45.5)"
   ]
  },
  {
   "cell_type": "code",
   "execution_count": 5,
   "id": "8bc79fc0-85b0-4be9-ba2c-236f7d4096a8",
   "metadata": {},
   "outputs": [
    {
     "data": {
      "text/plain": [
       "complex"
      ]
     },
     "execution_count": 5,
     "metadata": {},
     "output_type": "execute_result"
    }
   ],
   "source": [
    "type(12 + 13j)"
   ]
  },
  {
   "cell_type": "code",
   "execution_count": 10,
   "id": "14eaaaea-7259-4f9a-a290-d122bde7ed41",
   "metadata": {},
   "outputs": [
    {
     "data": {
      "text/plain": [
       "bool"
      ]
     },
     "execution_count": 10,
     "metadata": {},
     "output_type": "execute_result"
    }
   ],
   "source": [
    "type(True)\n",
    "type(False)\n",
    "type(10 < 5)"
   ]
  },
  {
   "cell_type": "code",
   "execution_count": 11,
   "id": "86d41131-b73b-4373-ab90-1295ffafc582",
   "metadata": {},
   "outputs": [
    {
     "data": {
      "text/plain": [
       "str"
      ]
     },
     "execution_count": 11,
     "metadata": {},
     "output_type": "execute_result"
    }
   ],
   "source": [
    "str1 = \"Hello\"\n",
    "type(str1)"
   ]
  },
  {
   "cell_type": "code",
   "execution_count": 12,
   "id": "cc5e5876-b4b1-4c2a-ab61-e6fae3b25650",
   "metadata": {},
   "outputs": [
    {
     "data": {
      "text/plain": [
       "str"
      ]
     },
     "execution_count": 12,
     "metadata": {},
     "output_type": "execute_result"
    }
   ],
   "source": [
    "str2 = 'Hola'\n",
    "type(str2)"
   ]
  },
  {
   "cell_type": "code",
   "execution_count": 13,
   "id": "8fc81c47-70aa-4868-becb-726c7e2f11b7",
   "metadata": {},
   "outputs": [
    {
     "name": "stdout",
     "output_type": "stream",
     "text": [
      "\n",
      "My name is \n",
      "Joel ALAWENON\n",
      "and I'm blablabla\n",
      "\n"
     ]
    }
   ],
   "source": [
    "str3 = \"\"\"\n",
    "My name is \n",
    "Joel ALAWENON\n",
    "and I'm blablabla\n",
    "\"\"\"\n",
    "print(str3)"
   ]
  },
  {
   "cell_type": "code",
   "execution_count": 19,
   "id": "ca1d28ba-72f3-4127-bce5-1d27abda7e02",
   "metadata": {},
   "outputs": [
    {
     "name": "stdout",
     "output_type": "stream",
     "text": [
      "Hello\n"
     ]
    }
   ],
   "source": [
    "a = \"Hello World\"\n",
    "print(a[:5])"
   ]
  },
  {
   "cell_type": "code",
   "execution_count": 18,
   "id": "72308797-9630-4345-8d4e-b3b0fde1a56e",
   "metadata": {},
   "outputs": [
    {
     "name": "stdout",
     "output_type": "stream",
     "text": [
      " World\n"
     ]
    }
   ],
   "source": [
    "a = \"Hello World\"\n",
    "print(a[5:])"
   ]
  },
  {
   "cell_type": "code",
   "execution_count": 20,
   "id": "f2c5a688-8c6f-44e6-b129-0d181b286af3",
   "metadata": {},
   "outputs": [
    {
     "name": "stdout",
     "output_type": "stream",
     "text": [
      "ello\n"
     ]
    }
   ],
   "source": [
    "a = \"Hello World\"\n",
    "print(a[1:5])"
   ]
  },
  {
   "cell_type": "code",
   "execution_count": 24,
   "id": "e5d088c4-fc1a-4962-9e24-3cdfdcf33e02",
   "metadata": {},
   "outputs": [
    {
     "data": {
      "text/plain": [
       "[1, 2, 3]"
      ]
     },
     "execution_count": 24,
     "metadata": {},
     "output_type": "execute_result"
    }
   ],
   "source": [
    "#LIST\n",
    "[1,2,3]"
   ]
  },
  {
   "cell_type": "code",
   "execution_count": 26,
   "id": "32683e01-ff56-4306-b258-83cd23513386",
   "metadata": {},
   "outputs": [
    {
     "data": {
      "text/plain": [
       "['Hola', 2, 'Bonjour', ['Jojo', 'Jaja'], 5]"
      ]
     },
     "execution_count": 26,
     "metadata": {},
     "output_type": "execute_result"
    }
   ],
   "source": [
    "['Hola', 2, \"Bonjour\", [\"Jojo\", 'Jaja'], 5]"
   ]
  },
  {
   "cell_type": "code",
   "execution_count": 28,
   "id": "d35563fc-cd7c-4971-a7e8-4770fe5c83db",
   "metadata": {},
   "outputs": [
    {
     "data": {
      "text/plain": [
       "['Hola', 2, 'Bonjour', ['Jojo', 'Jaja'], 5, 'jour 10']"
      ]
     },
     "execution_count": 28,
     "metadata": {},
     "output_type": "execute_result"
    }
   ],
   "source": [
    "data = ['Hola', 2, \"Bonjour\", [\"Jojo\", 'Jaja'], 5]\n",
    "data.append('jour 10')\n",
    "data"
   ]
  },
  {
   "cell_type": "code",
   "execution_count": 29,
   "id": "b6dd8c3c-64d4-4e86-bdb3-5cb243da7937",
   "metadata": {},
   "outputs": [
    {
     "data": {
      "text/plain": [
       "['hola senorita', 2, 'Bonjour', ['Jojo', 'Jaja'], 5, 'jour 10']"
      ]
     },
     "execution_count": 29,
     "metadata": {},
     "output_type": "execute_result"
    }
   ],
   "source": [
    "data[0] =  \"hola senorita\"\n",
    "data"
   ]
  },
  {
   "cell_type": "code",
   "execution_count": 30,
   "id": "fb0a1815-bc0f-41ab-ae26-e439d331c77a",
   "metadata": {},
   "outputs": [
    {
     "data": {
      "text/plain": [
       "['hola senorita', 2, 'Bonjour', ['hehe', 'Jaja'], 5, 'jour 10']"
      ]
     },
     "execution_count": 30,
     "metadata": {},
     "output_type": "execute_result"
    }
   ],
   "source": [
    "data[3][0] = \"hehe\"\n",
    "data"
   ]
  },
  {
   "cell_type": "code",
   "execution_count": 31,
   "id": "281b5dae-3db3-4955-9092-bef40e7ab36d",
   "metadata": {},
   "outputs": [
    {
     "data": {
      "text/plain": [
       "tuple"
      ]
     },
     "execution_count": 31,
     "metadata": {},
     "output_type": "execute_result"
    }
   ],
   "source": [
    "#TUPLE (not modifiable)\n",
    "tuple_scope = (1, 2, 3)\n",
    "type(tuple_scope)"
   ]
  },
  {
   "cell_type": "code",
   "execution_count": 32,
   "id": "11161fd6-f92c-418c-9931-c6a9b66f7fe4",
   "metadata": {},
   "outputs": [
    {
     "data": {
      "text/plain": [
       "1"
      ]
     },
     "execution_count": 32,
     "metadata": {},
     "output_type": "execute_result"
    }
   ],
   "source": [
    "tuple_scope[0]"
   ]
  },
  {
   "cell_type": "code",
   "execution_count": 33,
   "id": "2b50282d-a943-4f10-9687-b9728e4d9cad",
   "metadata": {},
   "outputs": [
    {
     "data": {
      "text/plain": [
       "set"
      ]
     },
     "execution_count": 33,
     "metadata": {},
     "output_type": "execute_result"
    }
   ],
   "source": [
    "#sets (not acessible by bracket way and have unique value)\n",
    "\n",
    "daily_pints = {'holala', 1, 2, 4}\n",
    "type(daily_pints)"
   ]
  },
  {
   "cell_type": "code",
   "execution_count": 34,
   "id": "f27a9655-ca29-427a-b531-92fc2c3234a0",
   "metadata": {},
   "outputs": [
    {
     "name": "stdout",
     "output_type": "stream",
     "text": [
      "{'holala', 2, 4, 1}\n"
     ]
    }
   ],
   "source": [
    "print(daily_pints)"
   ]
  },
  {
   "cell_type": "code",
   "execution_count": 35,
   "id": "2f2dcc16-3c34-4463-9353-8258ddd68d10",
   "metadata": {},
   "outputs": [
    {
     "name": "stdout",
     "output_type": "stream",
     "text": [
      "{1, 2, 3, 4, 5, 6, 7, 10, 20}\n"
     ]
    }
   ],
   "source": [
    "daily_logs = {1, 6, 7, 10, 1, 2, 4, 3, 4,3, 2, 5, 20}\n",
    "print(daily_logs)"
   ]
  },
  {
   "cell_type": "code",
   "execution_count": 36,
   "id": "0533d83d-64bc-4557-b709-7dbd0de8b019",
   "metadata": {},
   "outputs": [],
   "source": [
    "wifes_daily_pints_log = {1,2,3, 6, 5, 4, 8, 7, 10, 9, 3, 2, 1, 10, 7}"
   ]
  },
  {
   "cell_type": "code",
   "execution_count": 37,
   "id": "d829029b-3440-433f-a7b1-c0d45a2c5d6d",
   "metadata": {},
   "outputs": [
    {
     "name": "stdout",
     "output_type": "stream",
     "text": [
      "{1, 2, 3, 4, 5, 6, 7, 8, 9, 10, 20}\n"
     ]
    }
   ],
   "source": [
    "print(daily_logs | wifes_daily_pints_log)"
   ]
  },
  {
   "cell_type": "code",
   "execution_count": 38,
   "id": "c958c99e-0728-4dd8-bde9-8d0fe2118fb4",
   "metadata": {},
   "outputs": [
    {
     "name": "stdout",
     "output_type": "stream",
     "text": [
      "{1, 2, 3, 4, 5, 6, 7, 10}\n"
     ]
    }
   ],
   "source": [
    "print(daily_logs & wifes_daily_pints_log)\n"
   ]
  },
  {
   "cell_type": "code",
   "execution_count": 39,
   "id": "2635c945-a8d8-47de-9c9d-1c51aa271c46",
   "metadata": {},
   "outputs": [
    {
     "name": "stdout",
     "output_type": "stream",
     "text": [
      "{20}\n"
     ]
    }
   ],
   "source": [
    "print(daily_logs - wifes_daily_pints_log)\n"
   ]
  },
  {
   "cell_type": "code",
   "execution_count": 40,
   "id": "78528410-9c4e-4d99-82df-ee9fac23186a",
   "metadata": {},
   "outputs": [
    {
     "name": "stdout",
     "output_type": "stream",
     "text": [
      "{8, 9, 20}\n"
     ]
    }
   ],
   "source": [
    "print(daily_logs ^ wifes_daily_pints_log)\n"
   ]
  },
  {
   "cell_type": "code",
   "execution_count": 3,
   "id": "0074967a-88e0-43ed-8013-f1f93eb0467b",
   "metadata": {},
   "outputs": [
    {
     "data": {
      "text/plain": [
       "dict"
      ]
     },
     "execution_count": 3,
     "metadata": {},
     "output_type": "execute_result"
    }
   ],
   "source": [
    "\n",
    "#DICTIONNARY\n",
    "# KEY/Value pair\n",
    "\n",
    "dict_cream = {'name': \"Joel ALAWENON\", \"Weekly intake\": 5, 'Favorite ice cream': [\"MCC\", \"Chocolate\"]}\n",
    "type(dict_cream)"
   ]
  },
  {
   "cell_type": "code",
   "execution_count": 5,
   "id": "384146e1-f2ed-4ee2-8c95-dab64e1379f5",
   "metadata": {},
   "outputs": [
    {
     "data": {
      "text/plain": [
       "dict"
      ]
     },
     "execution_count": 5,
     "metadata": {},
     "output_type": "execute_result"
    }
   ],
   "source": [
    "type(dict_cream)"
   ]
  },
  {
   "cell_type": "code",
   "execution_count": 6,
   "id": "b4b9e4ad-fb18-400b-a69a-cdc9712758f2",
   "metadata": {},
   "outputs": [
    {
     "name": "stdout",
     "output_type": "stream",
     "text": [
      "{'name': 'Joel ALAWENON', 'Weekly intake': 5, 'Favorite ice cream': ['MCC', 'Chocolate']}\n"
     ]
    }
   ],
   "source": [
    "print(dict_cream)"
   ]
  },
  {
   "cell_type": "code",
   "execution_count": 7,
   "id": "d1df9236-1589-4211-bbe2-38588cecf0c1",
   "metadata": {},
   "outputs": [
    {
     "data": {
      "text/plain": [
       "dict_keys(['name', 'Weekly intake', 'Favorite ice cream'])"
      ]
     },
     "execution_count": 7,
     "metadata": {},
     "output_type": "execute_result"
    }
   ],
   "source": [
    "dict_cream.keys()"
   ]
  },
  {
   "cell_type": "code",
   "execution_count": 8,
   "id": "309c632f-3d37-4019-ad20-308942e24ac5",
   "metadata": {},
   "outputs": [
    {
     "data": {
      "text/plain": [
       "dict_items([('name', 'Joel ALAWENON'), ('Weekly intake', 5), ('Favorite ice cream', ['MCC', 'Chocolate'])])"
      ]
     },
     "execution_count": 8,
     "metadata": {},
     "output_type": "execute_result"
    }
   ],
   "source": [
    "dict_cream.items()"
   ]
  },
  {
   "cell_type": "code",
   "execution_count": 9,
   "id": "1ef17de9-0f4f-445f-8c72-1849e58d18de",
   "metadata": {},
   "outputs": [
    {
     "data": {
      "text/plain": [
       "'Joel ALAWENON'"
      ]
     },
     "execution_count": 9,
     "metadata": {},
     "output_type": "execute_result"
    }
   ],
   "source": [
    "dict_cream['name']"
   ]
  },
  {
   "cell_type": "code",
   "execution_count": 10,
   "id": "a26cebea-bfad-41f0-b801-76380c4d478d",
   "metadata": {},
   "outputs": [],
   "source": [
    "dict_cream['name'] = \"Nouwagnon\""
   ]
  },
  {
   "cell_type": "code",
   "execution_count": 11,
   "id": "a571a93c-b316-474a-90bd-b477afa80a83",
   "metadata": {},
   "outputs": [
    {
     "name": "stdout",
     "output_type": "stream",
     "text": [
      "{'name': 'Nouwagnon', 'Weekly intake': 5, 'Favorite ice cream': ['MCC', 'Chocolate']}\n"
     ]
    }
   ],
   "source": [
    "print(dict_cream)"
   ]
  },
  {
   "cell_type": "code",
   "execution_count": 13,
   "id": "301e4c89-8c93-41ab-9148-5434ddebf683",
   "metadata": {},
   "outputs": [],
   "source": [
    "dict_cream.update({'name': \"Joel ALAWENON\", \"Weekly intake\": 5, 'weight': 69})"
   ]
  },
  {
   "cell_type": "code",
   "execution_count": 14,
   "id": "2726001d-9570-4b69-a8a1-071d59654512",
   "metadata": {},
   "outputs": [
    {
     "name": "stdout",
     "output_type": "stream",
     "text": [
      "{'name': 'Joel ALAWENON', 'Weekly intake': 5, 'Favorite ice cream': ['MCC', 'Chocolate'], 'weight': 69}\n"
     ]
    }
   ],
   "source": [
    "print(dict_cream)"
   ]
  },
  {
   "cell_type": "code",
   "execution_count": 15,
   "id": "06d532d4-3ecd-4569-9770-e8a4c021d64a",
   "metadata": {},
   "outputs": [
    {
     "name": "stdout",
     "output_type": "stream",
     "text": [
      "{'name': 'Joel ALAWENON', 'Weekly intake': 5, 'Favorite ice cream': ['MCC', 'Chocolate']}\n"
     ]
    }
   ],
   "source": [
    "del dict_cream[\"weight\"]\n",
    "print(dict_cream)"
   ]
  },
  {
   "cell_type": "code",
   "execution_count": null,
   "id": "f814853c-ed4e-4152-b122-ee23d13d9452",
   "metadata": {},
   "outputs": [],
   "source": []
  }
 ],
 "metadata": {
  "kernelspec": {
   "display_name": "Python 3 (ipykernel)",
   "language": "python",
   "name": "python3"
  },
  "language_info": {
   "codemirror_mode": {
    "name": "ipython",
    "version": 3
   },
   "file_extension": ".py",
   "mimetype": "text/x-python",
   "name": "python",
   "nbconvert_exporter": "python",
   "pygments_lexer": "ipython3",
   "version": "3.11.7"
  }
 },
 "nbformat": 4,
 "nbformat_minor": 5
}
